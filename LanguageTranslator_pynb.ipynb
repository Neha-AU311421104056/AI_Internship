{
  "nbformat": 4,
  "nbformat_minor": 0,
  "metadata": {
    "colab": {
      "provenance": []
    },
    "kernelspec": {
      "name": "python3",
      "display_name": "Python 3"
    },
    "language_info": {
      "name": "python"
    }
  },
  "cells": [
    {
      "cell_type": "code",
      "source": [
        "\n",
        "\n",
        "import googletrans\n",
        "from googletrans import Translator\n",
        "\n",
        "def translate_text():\n",
        "    translator = Translator()\n",
        "\n",
        "    text_to_translate = input(\"Enter the text you want to translate: 🌍 \")\n",
        "    source_language = input(\"Enter the source language (e.g., en for English): \")\n",
        "    target_language = input(\"Enter the target language (e.g., fr for French): \")\n",
        "\n",
        "    try:\n",
        "        translation = translator.translate(text_to_translate, src=source_language, dest=target_language)\n",
        "        print(\"\\nTranslated text: 🗣️\\n\", translation.text)\n",
        "    except AttributeError as e:\n",
        "        # Catch AttributeError instead of googletrans.exceptions.LanguageDetectionError\n",
        "        if \"NoneType\" in str(e):  # Check if the error is related to token acquisition\n",
        "            print(\"\\nError: Could not acquire translation token. The website structure might have changed.\")\n",
        "        else:\n",
        "            print(\"\\nAn error occurred: ❌\\n\", e)\n",
        "    except Exception as e:\n",
        "        print(\"\\nAn error occurred: ❌\\n\", e)\n",
        "\n",
        "if __name__ == \"__main__\":\n",
        "    print(\"\\nWelcome to the Language Translator! 🌐\\n\")\n",
        "    translate_text()"
      ],
      "metadata": {
        "colab": {
          "base_uri": "https://localhost:8080/"
        },
        "id": "y2bW_TSUT8BT",
        "outputId": "c801593f-c4df-4f48-8bdd-78a394734887"
      },
      "execution_count": 4,
      "outputs": [
        {
          "output_type": "stream",
          "name": "stdout",
          "text": [
            "\n",
            "Welcome to the Language Translator! 🌐\n",
            "\n",
            "Enter the text you want to translate: 🌍 मैं अच्छी तरह से हिंदी नहीं बोलता\n",
            "Enter the source language (e.g., en for English): hi\n",
            "Enter the target language (e.g., fr for French): en\n",
            "\n",
            "Translated text: 🗣️\n",
            " i don't speak hindi well\n"
          ]
        }
      ]
    }
  ]
}